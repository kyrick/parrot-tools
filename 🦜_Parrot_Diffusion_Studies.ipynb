{
 "cells": [
  {
   "cell_type": "markdown",
   "metadata": {
    "id": "eNLPem2RaVKJ",
    "tags": []
   },
   "source": [
    "# Parrot Diffusion Studies 🦜🎨\n",
    "\n",
    "This notebook is designed to study parameters, settings and prompts against the [Stable Diffusion model](https://github.com/CompVis/stable-diffusion).\n",
    "\n",
    "This notebook maintained by [Stephen Young](https://twitter.com/KyrickYoung) or SteveTheNinja#0616\n",
    "\n",
    "Visit the Parrot Zone [parrotzone.art](http://www.parrotzone.art)\n",
    "\n",
    "## Changelog\n",
    "### 2.0\n",
    "- paperspace port!"
   ]
  },
  {
   "cell_type": "code",
   "execution_count": null,
   "metadata": {},
   "outputs": [],
   "source": [
    "# Create images out\n",
    "\n",
    "from pathlib import Path\n",
    "import os\n",
    "\n",
    "\n",
    "try:\n",
    "    from google.colab import drive\n",
    "    google_drive = True\n",
    "except:\n",
    "    google_drive = False\n",
    "\n",
    "if google_drive:\n",
    "    ROOT_FOLDER = \"generative\"\n",
    "    PROJECT_FOLDER = \"parrot_studies\"\n",
    "    MOUNTED_PATH = Path('/content/drive')\n",
    "    MYDRIVE_PATH = MOUNTED_PATH / \"MyDrive\"\n",
    "    PROJECT_PATH = MYDRIVE_PATH /  ROOT_FOLDER / PROJECT_FOLDER\n",
    "\n",
    "    IMAGES_OUT = PROJECT_PATH/ \"images_out\"\n",
    "\n",
    "    drive.mount(str(MOUNTED_PATH))\n",
    "\n",
    "    os.makedirs(PROJECT_PATH, exist_ok=True)\n",
    "    os.makedirs(IMAGES_OUT, exist_ok=True)\n",
    "else:\n",
    "    # setup paths\n",
    "    # REPLACE THIS WITH YOUR PATH\n",
    "    # HINT: type $PWD in a terminal\n",
    "    NOTEBOOK_PATH = Path(\"/notebooks\")\n",
    "    IMAGES_OUT = NOTEBOOK_PATH / \"images_out\"\n",
    "\n",
    "    os.makedirs(IMAGES_OUT, exist_ok=True)\n",
    "\n",
    "print(\"Will write output images to folder\", IMAGES_OUT)"
   ]
  },
  {
   "cell_type": "code",
   "execution_count": null,
   "metadata": {
    "cellView": "form",
    "id": "OFkTxsKybPYh"
   },
   "outputs": [],
   "source": [
    "#@title Setup\n",
    "#  scipy ftfy \n",
    "%pip install transformers accelerate safetensors diffusers[torch]==0.19.0 invisible-watermark>=0.2.0\n",
    "%pip install pydantic==1.7.4 pillow\n",
    "%pip install git+https://github.com/kyrick/parrot-tools.git --no-deps"
   ]
  },
  {
   "cell_type": "code",
   "execution_count": null,
   "metadata": {
    "cellView": "form",
    "id": "WVlISo2FffMA"
   },
   "outputs": [],
   "source": [
    "from pathlib import Path\n",
    "import os\n",
    "\n",
    "from parrot_tools.utils import prepare_prompts_for_study, prepare_hybrid_prompts_for_study, read_csv\n",
    "from parrot_tools.generate import run_prompts, BatchSettings\n",
    "\n",
    "# THIS IS A DIRTY HACK TO SILENCE THE PROGRESS BAR\n",
    "# THE TQDM PROGRESS BAR BOTTLENECKS CELL OUTPUT AND SLOWS THE NOTEBOOK\n",
    "from tqdm.auto import tqdm\n",
    "from functools import partialmethod\n",
    "tqdm.__init__ = partialmethod(tqdm.__init__, disable=True)"
   ]
  },
  {
   "cell_type": "code",
   "execution_count": null,
   "metadata": {
    "cellView": "form",
    "id": "PzeQ2Qucd3Io"
   },
   "outputs": [],
   "source": [
    "# Initialize the Model\n",
    "\n",
    "from diffusers import StableDiffusionXLPipeline\n",
    "import torch\n",
    "\n",
    "pipe = StableDiffusionXLPipeline.from_pretrained(\n",
    "    \"stabilityai/stable-diffusion-xl-base-1.0\", torch_dtype=torch.float16, variant=\"fp16\", use_safetensors=True\n",
    ")\n",
    "pipe.to(\"cuda\")\n",
    "    "
   ]
  },
  {
   "cell_type": "code",
   "execution_count": null,
   "metadata": {
    "id": "M5ImX6hPrFhv"
   },
   "outputs": [],
   "source": [
    "# Each count will add 1 additional style or modifier to each prompt. A positive number will flip the notebook into HYBRID MODE! :D\n",
    "# Turn on hybridize_ALL_THE_THINGS to combine both styles and modifiers into the same prompts\n",
    "hybrid_count = 0\n",
    "hybridize_ALL_THE_THINGS = False\n",
    "\n",
    "base_prompts = \"\"\"\n",
    "a portrait of a character in a scenic environment\n",
    "a building in a stunning landscape\n",
    "\"\"\"\n",
    "\n",
    "# Supported formats:\n",
    "# Gediminas Pranckevicius - first, last\n",
    "# Aivazovsky, Ivan        - last, first (supports tabs if pasted from google sheets!)\n",
    "# de Kooning, Willem      - 2+ words in the last name\n",
    "# Death Burger            - a nickname of two or more words\n",
    "# RHADS                   - a single nickname\n",
    "styles_to_study = \"\"\"\n",
    "Pranckevicius, Gediminas\n",
    "Aivazovsky\tIvan\n",
    "RHADS\n",
    "\"\"\"\n",
    "# alternatively load names from a csv file\n",
    "styles_csv_path = \"\" #\"data.csv\"\n",
    "\n",
    "modifiers_to_study = \"\"\"\n",
    "graphic novel\n",
    "vaporwave\n",
    "\"\"\"\n",
    "# alternatively load modifiers from a csv file\n",
    "modifiers_csv_path = \"\"\n",
    "\n",
    "# This text will be added to the end of every prompt\n",
    "append_to_all_prompts = \"\"\n",
    "\n",
    "\n",
    "\n",
    "if styles_csv_path:\n",
    "    csv_styles = read_csv(styles_csv_path)\n",
    "    styles_to_study += csv_styles\n",
    "\n",
    "if modifiers_csv_path:\n",
    "    csv_mods = read_csv(modifiers_csv_path)\n",
    "    modifiers_to_study += csv_mods\n",
    "\n",
    "if hybrid_count > 0:\n",
    "    prompts_to_run = prepare_hybrid_prompts_for_study(base_prompts, styles_to_study, modifiers_to_study, append_to_all_prompts, hybrid_count=hybrid_count, hybridize_everything=hybridize_ALL_THE_THINGS)\n",
    "else:\n",
    "    prompts_to_run = prepare_prompts_for_study(base_prompts, styles_to_study, modifiers_to_study, append_to_all_prompts)\n",
    "\n",
    "# print out the prompts to sanity check\n",
    "for p in prompts_to_run:\n",
    "    print(p.prompt, \"-\", p.base_filename)"
   ]
  },
  {
   "cell_type": "code",
   "execution_count": null,
   "metadata": {
    "cellView": "form",
    "id": "7LTg896csdHx",
    "tags": []
   },
   "outputs": [],
   "source": [
    "#@title Do The Run\n",
    "#@markdown ## Run Settings\n",
    "#@markdown set seed to -1 for random seed\n",
    "batch_name = \"StableXLStudy\" #@param {type: \"string\"}\n",
    "#@markdown batch_size is images per prompt\n",
    "batch_size = 9 #@param {type: \"integer\"}\n",
    "manual_seed = -1 #@param {type:\"integer\"}\n",
    "steps = 15  #@param {type:\"integer\"}\n",
    "cfg_scale = 12.0  #@param {type:\"number\"}\n",
    "\n",
    "#@markdown set to 0 to turn off. Number of retries per NSFW result (will try with different seed)\n",
    "NSFW_retries = 1 #@param {type:\"integer\"}\n",
    "\n",
    "#@markdown ##Image Settings\n",
    "image_ext = \"jpeg\" #@param [\"jpeg\", \"png\"]\n",
    "width = 512  #@param {type: \"integer\"}\n",
    "height = 512  #@param {type: \"integer\"}\n",
    "\n",
    "#@markdown turn on/off dispalay of each image\n",
    "display_single_images = False #@param {type:\"boolean\"}\n",
    "\n",
    "#@markdown ##Grid Settings\n",
    "make_batch_grid = True #@param {type:\"boolean\"}\n",
    "grid_cols = 3 #@param {type:\"integer\"}\n",
    "max_images_per_grid = 9 #@param {type:\"integer\"}\n",
    "grid_padding = 0 #@param {type:\"integer\"}\n",
    "#@markdown color name (`black`, `white`, `pink`, etc.) or hex code in format `#00004c'`\n",
    "grid_bg_color = \"white\" #@param {type: \"string\"}\n",
    "\n",
    "batch_settings = BatchSettings(\n",
    "    batch_size=batch_size,\n",
    "    batch_name=batch_name,\n",
    "    base_path=IMAGES_OUT,\n",
    "    steps=steps,\n",
    "    cfg_scale=cfg_scale,\n",
    "    seed=manual_seed,\n",
    "    NSFW_retry=NSFW_retries,\n",
    "    display_individual_images=display_single_images,\n",
    "    image_ext=image_ext,\n",
    "    image_w=width,\n",
    "    image_h=height,\n",
    "    make_grid=make_batch_grid,\n",
    "    grid_cols=grid_cols,\n",
    "    grid_max_images=max_images_per_grid,\n",
    "    grid_padding=grid_padding,\n",
    "    grid_bg_color=grid_bg_color\n",
    ")\n",
    "\n",
    "run_prompts(pipe, prompts_to_run, batch_settings)\n"
   ]
  }
 ],
 "metadata": {
  "accelerator": "GPU",
  "colab": {
   "collapsed_sections": [],
   "private_outputs": true,
   "provenance": []
  },
  "gpuClass": "premium",
  "kernelspec": {
   "display_name": "Python 3.9.9 ('parrot-tools-Fxf-GLwc-py3.9')",
   "language": "python",
   "name": "python3"
  },
  "language_info": {
   "codemirror_mode": {
    "name": "ipython",
    "version": 3
   },
   "file_extension": ".py",
   "mimetype": "text/x-python",
   "name": "python",
   "nbconvert_exporter": "python",
   "pygments_lexer": "ipython3",
   "version": "3.10.12"
  },
  "vscode": {
   "interpreter": {
    "hash": "c38b47f231eab3b2322e28e40859caed59aa62c188843bf2bdb808ee5c2afa12"
   }
  }
 },
 "nbformat": 4,
 "nbformat_minor": 4
}
